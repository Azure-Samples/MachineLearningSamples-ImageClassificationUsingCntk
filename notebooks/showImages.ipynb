{
 "cells": [
  {
   "cell_type": "markdown",
   "metadata": {},
   "source": [
    "# Image dataset visualization\n",
    "This notebook can be used to browse throught all images, inspect for each image what class it is annotated as, and if wanted correct the annotation. \n",
    "\n",
    "Changing image annotation:\n",
    "- Simply use the drop-down menue under each image to change its class.\n",
    "- As is explained in part 3 of the documentation, all images are in subfolders of *DATA_DIR\\images\\fashionTexture\\*, where the subfolder names equal the class name. To change the class of an image it needs to be moved to the new subfolder - this is exaclty what the UI in this notebook does. \n",
    "- Example: Given an image labeled as 'striped' with filename 105.jpg, and we change the drop-box to 'dotted'. The image is then moved from the file path *DATA_DIR\\images\\fashionTexture\\striped\\105.jpg* to *DATA_DIR\\images\\fashionTexture\\dotted\\105.jpg*. This assumes that the destination does not exist or otherwise the UI will throw an error."
   ]
  },
  {
   "cell_type": "code",
   "execution_count": 1,
   "metadata": {},
   "outputs": [
    {
     "ename": "ImportError",
     "evalue": "No module named 'sklearn'",
     "output_type": "error",
     "traceback": [
      "\u001b[1;31m---------------------------------------------------------------------------\u001b[0m",
      "\u001b[1;31mImportError\u001b[0m                               Traceback (most recent call last)",
      "\u001b[1;32m<ipython-input-1-9b1a0e138335>\u001b[0m in \u001b[0;36m<module>\u001b[1;34m()\u001b[0m\n\u001b[0;32m      5\u001b[0m \u001b[0msys\u001b[0m\u001b[1;33m.\u001b[0m\u001b[0mpath\u001b[0m\u001b[1;33m.\u001b[0m\u001b[0mappend\u001b[0m\u001b[1;33m(\u001b[0m\u001b[1;34m\"../libraries\"\u001b[0m\u001b[1;33m)\u001b[0m\u001b[1;33m\u001b[0m\u001b[0m\n\u001b[0;32m      6\u001b[0m \u001b[1;32mfrom\u001b[0m \u001b[0mIPython\u001b[0m\u001b[1;33m.\u001b[0m\u001b[0mdisplay\u001b[0m \u001b[1;32mimport\u001b[0m \u001b[0mdisplay\u001b[0m\u001b[1;33m\u001b[0m\u001b[0m\n\u001b[1;32m----> 7\u001b[1;33m \u001b[1;32mfrom\u001b[0m \u001b[0mhelpers\u001b[0m \u001b[1;32mimport\u001b[0m \u001b[0mgetAmlLogger\u001b[0m\u001b[1;33m\u001b[0m\u001b[0m\n\u001b[0m\u001b[0;32m      8\u001b[0m \u001b[1;32mfrom\u001b[0m \u001b[0mutilities_general_v2\u001b[0m \u001b[1;32mimport\u001b[0m \u001b[1;33m*\u001b[0m\u001b[1;33m\u001b[0m\u001b[0m\n\u001b[0;32m      9\u001b[0m \u001b[1;32mfrom\u001b[0m \u001b[0mui_annotation\u001b[0m \u001b[1;32mimport\u001b[0m \u001b[0mAnnotationUI\u001b[0m\u001b[1;33m\u001b[0m\u001b[0m\n",
      "\u001b[1;32m~\\Desktop\\viennaPublishing\\MachineLearningSamples-ImageClassificationUsingCntk\\libraries\\helpers.py\u001b[0m in \u001b[0;36m<module>\u001b[1;34m()\u001b[0m\n\u001b[0;32m      1\u001b[0m \u001b[1;31m# -*- coding: utf-8 -*-\u001b[0m\u001b[1;33m\u001b[0m\u001b[1;33m\u001b[0m\u001b[0m\n\u001b[0;32m      2\u001b[0m \u001b[1;32mimport\u001b[0m \u001b[0msys\u001b[0m\u001b[1;33m\u001b[0m\u001b[0m\n\u001b[1;32m----> 3\u001b[1;33m \u001b[1;32mfrom\u001b[0m \u001b[0msklearn\u001b[0m \u001b[1;32mimport\u001b[0m \u001b[0msvm\u001b[0m\u001b[1;33m,\u001b[0m \u001b[0mmetrics\u001b[0m\u001b[1;33m\u001b[0m\u001b[0m\n\u001b[0m\u001b[0;32m      4\u001b[0m \u001b[1;32mfrom\u001b[0m \u001b[0mshutil\u001b[0m \u001b[1;32mimport\u001b[0m \u001b[0mcopyfile\u001b[0m\u001b[1;33m\u001b[0m\u001b[0m\n\u001b[0;32m      5\u001b[0m \u001b[1;32mfrom\u001b[0m \u001b[0mutilities_general_v2\u001b[0m \u001b[1;32mimport\u001b[0m \u001b[1;33m*\u001b[0m\u001b[1;33m\u001b[0m\u001b[0m\n",
      "\u001b[1;31mImportError\u001b[0m: No module named 'sklearn'"
     ]
    }
   ],
   "source": [
    "import sys, os\n",
    "sys.path.append(\".\")\n",
    "sys.path.append(\"..\")\n",
    "sys.path.append(\"libraries\")\n",
    "sys.path.append(\"../libraries\")\n",
    "from IPython.display import display\n",
    "from helpers import getAmlLogger\n",
    "from utilities_general_v2 import *\n",
    "from ui_annotation import AnnotationUI\n",
    "from PARAMETERS import procDir, imgOrigDir\n",
    "%autosave 0\n",
    "\n",
    "boShowTrainingSet = True #Set to False to show test set instead\n",
    "\n",
    "amlLogger = getAmlLogger()\n",
    "if amlLogger != []:\n",
    "    amlLogger.log(\"amlrealworld.ImageClassificationUsingCntk.showImages\", \"true\")\n",
    "\n",
    "# Load data\n",
    "lutLabel2Id = readPickle(pathJoin(procDir, \"lutLabel2Id.pickle\"))\n",
    "if not boShowTrainingSet:\n",
    "   imgDict = readPickle(pathJoin(procDir, \"imgDictTest.pickle\"))\n",
    "else:\n",
    "   imgDict = readPickle(pathJoin(procDir, \"imgDictTrain.pickle\"))"
   ]
  },
  {
   "cell_type": "code",
   "execution_count": null,
   "metadata": {
    "scrolled": false
   },
   "outputs": [],
   "source": [
    "# Instantiate and show annotation UI\n",
    "annotationUI = AnnotationUI(imgOrigDir, imgDict, lutLabel2Id, gridSize=(2, 2)) #, wZoomImgWidth = 350)\n",
    "display(annotationUI.ui)"
   ]
  },
  {
   "cell_type": "code",
   "execution_count": null,
   "metadata": {},
   "outputs": [],
   "source": []
  }
 ],
 "metadata": {
  "kernelspec": {
   "display_name": "Python 3",
   "language": "python",
   "name": "python3"
  },
  "language_info": {
   "codemirror_mode": {
    "name": "ipython",
    "version": 3
   },
   "file_extension": ".py",
   "mimetype": "text/x-python",
   "name": "python",
   "nbconvert_exporter": "python",
   "pygments_lexer": "ipython3",
   "version": "3.5.4"
  }
 },
 "nbformat": 4,
 "nbformat_minor": 2
}
