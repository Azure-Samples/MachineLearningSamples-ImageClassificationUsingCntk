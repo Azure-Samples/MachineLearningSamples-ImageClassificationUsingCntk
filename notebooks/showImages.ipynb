{
 "cells": [
  {
   "cell_type": "markdown",
   "metadata": {},
   "source": [
    "# Image dataset visualization\n",
    "This notebook can be used to browse throught all images, inspect for each image what class it is annotated as, and if wanted correct the annotation. \n",
    "\n",
    "Changing image annotation:\n",
    "- Simply use the drop-down menue under each image to change its class.\n",
    "- As is explained in part 3 of the documentation, all images are in subfolders of *DATA_DIR\\images\\fashionTexture\\*, where the subfolder names equal the class name. To change the class of an image it needs to be moved to the new subfolder - this is exaclty what the UI in this notebook does. \n",
    "- Example: Given an image labeled as 'striped' with filename 105.jpg, and we change the drop-box to 'dotted'. The image is then moved from the file path *DATA_DIR\\images\\fashionTexture\\striped\\105.jpg* to *DATA_DIR\\images\\fashionTexture\\dotted\\105.jpg*. This assumes that the destination does not exist or otherwise the UI will throw an error."
   ]
  },
  {
   "cell_type": "code",
   "execution_count": null,
   "metadata": {},
   "outputs": [],
   "source": [
    "import sys, os\n",
    "sys.path.append(\".\")\n",
    "sys.path.append(\"..\")\n",
    "sys.path.append(\"libraries\")\n",
    "sys.path.append(\"../libraries\")\n",
    "from IPython.display import display\n",
    "from helpers import getAmlLogger\n",
    "from utilities_general_v2 import *\n",
    "from ui_annotation import AnnotationUI\n",
    "from PARAMETERS import procDir, imgOrigDir\n",
    "%autosave 0\n",
    "\n",
    "boShowTrainingSet = True #Set to False to show test set instead\n",
    "\n",
    "amlLogger = getAmlLogger()\n",
    "if amlLogger != []:\n",
    "    amlLogger.log(\"amlrealworld.ImageClassificationUsingCntk.showImages\", \"true\")\n",
    "\n",
    "# Load data\n",
    "lutLabel2Id = readPickle(pathJoin(procDir, \"lutLabel2Id.pickle\"))\n",
    "if not boShowTrainingSet:\n",
    "   imgDict = readPickle(pathJoin(procDir, \"imgDictTest.pickle\"))\n",
    "else:\n",
    "   imgDict = readPickle(pathJoin(procDir, \"imgDictTrain.pickle\"))"
   ]
  },
  {
   "cell_type": "code",
   "execution_count": null,
   "metadata": {
    "collapsed": true,
    "scrolled": false
   },
   "outputs": [],
   "source": [
    "# Instantiate and show annotation UI\n",
    "annotationUI = AnnotationUI(imgOrigDir, imgDict, lutLabel2Id, gridSize=(2, 2)) #, wZoomImgWidth = 350)\n",
    "display(annotationUI.ui)"
   ]
  },
  {
   "cell_type": "code",
   "execution_count": null,
   "metadata": {
    "collapsed": true
   },
   "outputs": [],
   "source": []
  }
 ],
 "metadata": {
  "kernelspec": {
   "display_name": "Python 3",
   "language": "python",
   "name": "python3"
  },
  "language_info": {
   "codemirror_mode": {
    "name": "ipython",
    "version": 3
   },
   "file_extension": ".py",
   "mimetype": "text/x-python",
   "name": "python",
   "nbconvert_exporter": "python",
   "pygments_lexer": "ipython3",
   "version": "3.5.4"
  }
 },
 "nbformat": 4,
 "nbformat_minor": 2
}
