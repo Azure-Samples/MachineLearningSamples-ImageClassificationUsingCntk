{
 "cells": [
  {
   "cell_type": "markdown",
   "metadata": {},
   "source": [
    "# Results visualization - Jupyter widget\n",
    "This notebook can be used to scroll through all test or training images and visualizes for each image its predicted class and classification scores."
   ]
  },
  {
   "cell_type": "code",
   "execution_count": null,
   "metadata": {},
   "outputs": [],
   "source": [
    "import sys, os\n",
    "sys.path.append(\".\")\n",
    "sys.path.append(\"..\")\n",
    "sys.path.append(\"libraries\")\n",
    "sys.path.append(\"../libraries\")\n",
    "from IPython.display import display\n",
    "from helpers import getAmlLogger\n",
    "from utilities_general_v2 import *\n",
    "from ui_resultsViewer import ResultsUI\n",
    "from PARAMETERS import procDir, imgOrigDir\n",
    "%autosave 0\n",
    "\n",
    "amlLogger = getAmlLogger()\n",
    "if amlLogger != []:\n",
    "    amlLogger.log(\"amlrealworld.ImageClassificationUsingCntk.showResults\", \"true\")\n",
    "\n",
    "# Load data\n",
    "scoresMatrix  = readPickle(pathJoin(procDir, \"scoresMatrix.pickle\"))\n",
    "predLabels    = readPickle(pathJoin(procDir, \"predLabels.pickle\"))\n",
    "lutId2Label   = readPickle(pathJoin(procDir, \"lutId2Label.pickle\"))\n",
    "boEvalOnTrainingSet = readPickle(pathJoin(procDir, \"boEvalOnTrainingSet.pickle\"))\n",
    "\n",
    "if not boEvalOnTrainingSet:\n",
    "    imgDict = readPickle(pathJoin(procDir, \"imgDictTest.pickle\"))\n",
    "else:\n",
    "    print(\"WARNING: showing results on training set.\")\n",
    "    imgDict = readPickle(pathJoin(procDir, \"imgDictTrain.pickle\"))"
   ]
  },
  {
   "cell_type": "code",
   "execution_count": null,
   "metadata": {},
   "outputs": [],
   "source": [
    "# Instantiate and show results viewer UI\n",
    "resultsUI = ResultsUI(imgOrigDir, imgDict, scoresMatrix, predLabels, lutId2Label, boSoftmax = True)\n",
    "display(resultsUI.ui)"
   ]
  },
  {
   "cell_type": "code",
   "execution_count": null,
   "metadata": {},
   "outputs": [],
   "source": []
  }
 ],
 "metadata": {
  "kernelspec": {
   "display_name": "Python 3",
   "language": "python",
   "name": "python3"
  },
  "language_info": {
   "codemirror_mode": {
    "name": "ipython",
    "version": 3
   },
   "file_extension": ".py",
   "mimetype": "text/x-python",
   "name": "python",
   "nbconvert_exporter": "python",
   "pygments_lexer": "ipython3",
   "version": "3.5.4"
  }
 },
 "nbformat": 4,
 "nbformat_minor": 2
}
